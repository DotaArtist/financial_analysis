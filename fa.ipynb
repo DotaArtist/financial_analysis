{
 "metadata": {
  "language_info": {
   "codemirror_mode": {
    "name": "ipython",
    "version": 3
   },
   "file_extension": ".py",
   "mimetype": "text/x-python",
   "name": "python",
   "nbconvert_exporter": "python",
   "pygments_lexer": "ipython3",
   "version": "3.6.2-final"
  },
  "orig_nbformat": 2,
  "kernelspec": {
   "name": "python3",
   "display_name": "Python 3",
   "language": "python"
  }
 },
 "nbformat": 4,
 "nbformat_minor": 2,
 "cells": [
  {
   "source": [
    "### 融资融券对股价的影响\n",
    "import h5py\n",
    "import pandas as pd\n",
    "from jqdatasdk import *\n",
    "from datetime import datetime\n",
    "\n",
    "auth(\"13818134484\", \"12345678\")\n",
    "print(get_query_count())"
   ],
   "cell_type": "code",
   "metadata": {},
   "execution_count": 2,
   "outputs": [
    {
     "output_type": "stream",
     "name": "stdout",
     "text": [
      "提示：当前环境pandas版本为0.25，get_price与get_fundamentals_continuously接口panel参数将固定为False\n",
      "注意：0.25以上版本pandas不支持panel，如使用该数据结构和相关函数请注意修改\n",
      "auth success \n",
      "{'total': 10000000, 'spare': 10000000}\n"
     ]
    }
   ]
  },
  {
   "cell_type": "code",
   "execution_count": 44,
   "metadata": {},
   "outputs": [],
   "source": [
    "# 获取交易日列表\n",
    "trade_days = get_all_trade_days()\n",
    "trade_days_str = [i.strftime('%Y-%m-%d') for i in list(trade_days)]\n",
    "\n",
    "today = datetime.now()\n",
    "today_str = datetime.now().strftime('%Y-%m-%d')\n",
    "\n",
    "# 当日前一个交易日作为目标\n",
    "for _, i in enumerate(trade_days_str):\n",
    "    if today_str <= i:\n",
    "        target_day_str = trade_days_str[_ - 1]\n",
    "        break\n",
    "\n",
    "        # 目标日与前一个交易日间隔天数\n",
    "target_day_pre_delta = (\n",
    "        trade_days[trade_days_str.index(target_day_str) - 1] - trade_days[trade_days_str.index(target_day_str) - 2]).days\n",
    "\n",
    "# 获取未退市清单\n",
    "stocks = get_all_securities(['stock'])\n",
    "stocks['code'] = stocks.index.values\n",
    "\n",
    "stocks['market'] = stocks[['code']].applymap(lambda x: x.split('.')[1])\n",
    "stocks['stock_code'] = stocks[['code']].applymap(lambda x: x.split('.')[0])\n",
    "\n",
    "stocks['是否退市'] = stocks[['end_date']].applymap(lambda x: 1 if x < today else 0)\n",
    "\n",
    "stock_list = stocks[stocks['是否退市'] == 0]['code'].tolist()"
   ]
  },
  {
   "cell_type": "code",
   "execution_count": 11,
   "metadata": {},
   "outputs": [
    {
     "output_type": "stream",
     "name": "stdout",
     "text": [
      "2021-01-04\n",
      "2021-01-05\n",
      "2021-01-06\n",
      "2021-01-07\n",
      "2021-01-08\n",
      "2021-01-11\n",
      "2021-01-12\n",
      "2021-01-13\n",
      "2021-01-14\n",
      "2021-01-15\n",
      "2021-01-18\n",
      "2021-01-19\n",
      "2021-01-20\n",
      "2021-01-21\n",
      "2021-01-22\n",
      "2021-01-25\n",
      "2021-01-26\n",
      "2021-01-27\n",
      "2021-01-28\n",
      "2021-01-29\n",
      "2021-02-01\n",
      "2021-02-02\n",
      "2021-02-03\n",
      "2021-02-04\n",
      "2021-02-05\n",
      "2021-02-08\n",
      "2021-02-09\n",
      "2021-02-10\n",
      "2021-02-18\n",
      "2021-02-19\n",
      "2021-02-22\n",
      "2021-02-23\n"
     ]
    }
   ],
   "source": [
    "# 特征加工\n",
    "target_day_str = '2021-01-04'\n",
    "with h5py.File('D:/data_file/jqdata.hdf5', 'r') as files:\n",
    "    for key in list(files.keys()):\n",
    "        print(key)\n",
    "        for code in list(files[key].keys()):\n",
    "            for _columns in list(files[key][code].keys()):\n",
    "                pass\n"
   ]
  },
  {
   "cell_type": "code",
   "execution_count": 9,
   "metadata": {},
   "outputs": [],
   "source": [
    "import time\n",
    "time.sleep(5)"
   ]
  },
  {
   "cell_type": "code",
   "execution_count": 56,
   "metadata": {},
   "outputs": [],
   "source": [
    "target_day_str = '2021-02-23'\n",
    "stock_code = '002233.XSHE'\n",
    "# subgrp_daily = get_price(stock_code, start_date=target_day_str, end_date=target_day_str, frequency='daily',\n",
    "#                                      fq='post')\n",
    "subgrp_minute = get_price(stock_code, start_date=target_day_str, end_date='2021-02-24', frequency='minute',\n",
    "                                     fq='post')\n",
    "# subgrp_call = get_call_auction(stock_code, start_date=target_day_str, end_date=target_day_str)\n",
    "# subgrp_mtss = get_mtss(stock_code, start_date=target_day_str, end_date=target_day_str)"
   ]
  }
 ]
}