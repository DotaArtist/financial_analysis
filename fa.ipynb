{
 "metadata": {
  "language_info": {
   "codemirror_mode": {
    "name": "ipython",
    "version": 3
   },
   "file_extension": ".py",
   "mimetype": "text/x-python",
   "name": "python",
   "nbconvert_exporter": "python",
   "pygments_lexer": "ipython3",
   "version": "3.6.2-final"
  },
  "orig_nbformat": 2,
  "kernelspec": {
   "name": "python3",
   "display_name": "Python 3",
   "language": "python"
  }
 },
 "nbformat": 4,
 "nbformat_minor": 2,
 "cells": [
  {
   "source": [
    "### 融资融券对股价的影响\n",
    "import h5py\n",
    "import pandas as pd\n",
    "from jqdatasdk import *\n",
    "from datetime import datetime\n",
    "\n",
    "auth(\"13818134484\", \"12345678\")\n",
    "print(get_query_count())"
   ],
   "cell_type": "code",
   "metadata": {},
   "execution_count": 1,
   "outputs": [
    {
     "output_type": "stream",
     "name": "stdout",
     "text": [
      "提示：当前环境pandas版本为0.25，get_price与get_fundamentals_continuously接口panel参数将固定为False\n",
      "注意：0.25以上版本pandas不支持panel，如使用该数据结构和相关函数请注意修改\n",
      "auth success \n",
      "{'total': 10000000, 'spare': 8132769}\n"
     ]
    }
   ]
  },
  {
   "cell_type": "code",
   "execution_count": 44,
   "metadata": {},
   "outputs": [],
   "source": [
    "# 获取交易日列表\n",
    "trade_days = get_all_trade_days()\n",
    "trade_days_str = [i.strftime('%Y-%m-%d') for i in list(trade_days)]\n",
    "\n",
    "today = datetime.now()\n",
    "today_str = datetime.now().strftime('%Y-%m-%d')\n",
    "\n",
    "# 当日前一个交易日作为目标\n",
    "for _, i in enumerate(trade_days_str):\n",
    "    if today_str <= i:\n",
    "        target_day_str = trade_days_str[_ - 1]\n",
    "        break\n",
    "\n",
    "        # 目标日与前一个交易日间隔天数\n",
    "target_day_pre_delta = (\n",
    "        trade_days[trade_days_str.index(target_day_str) - 1] - trade_days[trade_days_str.index(target_day_str) - 2]).days\n",
    "\n",
    "# 获取未退市清单\n",
    "stocks = get_all_securities(['stock'])\n",
    "stocks['code'] = stocks.index.values\n",
    "\n",
    "stocks['market'] = stocks[['code']].applymap(lambda x: x.split('.')[1])\n",
    "stocks['stock_code'] = stocks[['code']].applymap(lambda x: x.split('.')[0])\n",
    "\n",
    "stocks['是否退市'] = stocks[['end_date']].applymap(lambda x: 1 if x < today else 0)\n",
    "\n",
    "stock_list = stocks[stocks['是否退市'] == 0]['code'].tolist()"
   ]
  },
  {
   "cell_type": "code",
   "execution_count": 90,
   "metadata": {},
   "outputs": [
    {
     "output_type": "error",
     "ename": "AssertionError",
     "evalue": "",
     "traceback": [
      "\u001b[1;31m---------------------------------------------------------------------------\u001b[0m",
      "\u001b[1;31mAssertionError\u001b[0m                            Traceback (most recent call last)",
      "\u001b[1;32m<ipython-input-90-e6267b065890>\u001b[0m in \u001b[0;36m<module>\u001b[1;34m\u001b[0m\n\u001b[0;32m     15\u001b[0m                     \u001b[0mtmp_list\u001b[0m\u001b[1;33m.\u001b[0m\u001b[0mappend\u001b[0m\u001b[1;33m(\u001b[0m\u001b[0mtmp_df\u001b[0m\u001b[1;33m)\u001b[0m\u001b[1;33m\u001b[0m\u001b[0m\n\u001b[0;32m     16\u001b[0m             \u001b[0mdf\u001b[0m \u001b[1;33m=\u001b[0m \u001b[0mpd\u001b[0m\u001b[1;33m.\u001b[0m\u001b[0mconcat\u001b[0m\u001b[1;33m(\u001b[0m\u001b[0mtmp_list\u001b[0m\u001b[1;33m,\u001b[0m \u001b[0maxis\u001b[0m\u001b[1;33m=\u001b[0m\u001b[1;36m1\u001b[0m\u001b[1;33m)\u001b[0m\u001b[1;33m\u001b[0m\u001b[0m\n\u001b[1;32m---> 17\u001b[1;33m             \u001b[1;32massert\u001b[0m \u001b[1;36m1\u001b[0m\u001b[1;33m==\u001b[0m\u001b[1;36m2\u001b[0m\u001b[1;33m\u001b[0m\u001b[0m\n\u001b[0m",
      "\u001b[1;31mAssertionError\u001b[0m: "
     ]
    }
   ],
   "source": [
    "# 特征加工\n",
    "with h5py.File('D:/data_file/jqdata_bak_20210223.hdf5', 'r') as files:\n",
    "    for key in list(files.keys()):\n",
    "        df_list = []\n",
    "\n",
    "        for code in list(files[key].keys()):\n",
    "            tmp_list = []\n",
    "\n",
    "            for _ in list(files[key][code].keys()):\n",
    "                if _ != \"price_minute\":\n",
    "                    columns = files[key][code][_]['columns'][:]\n",
    "                    columns = ['{}@{}'.format(_, i.decode('utf-8')) for i in columns]\n",
    "\n",
    "                    values = files[key][code][_]['values'][:]\n",
    "\n",
    "                    tmp_df = pd.DataFrame(values)\n",
    "                    tmp_df.columns = columns\n",
    "                    tmp_list.append(tmp_df)\n",
    "\n",
    "            df = pd.concat(tmp_list, axis=1)\n",
    "            df_list.append(df)"
   ]
  },
  {
   "cell_type": "code",
   "execution_count": 91,
   "metadata": {},
   "outputs": [
    {
     "output_type": "execute_result",
     "data": {
      "text/plain": [
       "   price_call@current  price_call@volume  price_call@money  price_call@a1_p  \\\n",
       "0                19.1           806800.0        15409880.0             19.1   \n",
       "\n",
       "   price_call@a1_v  price_call@a2_p  price_call@a2_v  price_call@a3_p  \\\n",
       "0          73422.0            19.11           5900.0            19.12   \n",
       "\n",
       "   price_call@a3_v  price_call@a4_p  ...  price_daily@low  price_daily@volume  \\\n",
       "0          28100.0            19.13  ...          2226.99           1286929.0   \n",
       "\n",
       "   price_daily@money  price_mtss@fin_value  price_mtss@fin_buy_value  \\\n",
       "0       2.891682e+09          3.087563e+09               298453303.0   \n",
       "\n",
       "   price_mtss@fin_refund_value  price_mtss@sec_value  \\\n",
       "0                  196510766.0           102983836.0   \n",
       "\n",
       "   price_mtss@sec_sell_value  price_mtss@sec_refund_value  \\\n",
       "0                   179980.0                    2133173.0   \n",
       "\n",
       "   price_mtss@fin_sec_value  \n",
       "0              5.003062e+09  \n",
       "\n",
       "[1 rows x 36 columns]"
      ],
      "text/html": "<div>\n<style scoped>\n    .dataframe tbody tr th:only-of-type {\n        vertical-align: middle;\n    }\n\n    .dataframe tbody tr th {\n        vertical-align: top;\n    }\n\n    .dataframe thead th {\n        text-align: right;\n    }\n</style>\n<table border=\"1\" class=\"dataframe\">\n  <thead>\n    <tr style=\"text-align: right;\">\n      <th></th>\n      <th>price_call@current</th>\n      <th>price_call@volume</th>\n      <th>price_call@money</th>\n      <th>price_call@a1_p</th>\n      <th>price_call@a1_v</th>\n      <th>price_call@a2_p</th>\n      <th>price_call@a2_v</th>\n      <th>price_call@a3_p</th>\n      <th>price_call@a3_v</th>\n      <th>price_call@a4_p</th>\n      <th>...</th>\n      <th>price_daily@low</th>\n      <th>price_daily@volume</th>\n      <th>price_daily@money</th>\n      <th>price_mtss@fin_value</th>\n      <th>price_mtss@fin_buy_value</th>\n      <th>price_mtss@fin_refund_value</th>\n      <th>price_mtss@sec_value</th>\n      <th>price_mtss@sec_sell_value</th>\n      <th>price_mtss@sec_refund_value</th>\n      <th>price_mtss@fin_sec_value</th>\n    </tr>\n  </thead>\n  <tbody>\n    <tr>\n      <th>0</th>\n      <td>19.1</td>\n      <td>806800.0</td>\n      <td>15409880.0</td>\n      <td>19.1</td>\n      <td>73422.0</td>\n      <td>19.11</td>\n      <td>5900.0</td>\n      <td>19.12</td>\n      <td>28100.0</td>\n      <td>19.13</td>\n      <td>...</td>\n      <td>2226.99</td>\n      <td>1286929.0</td>\n      <td>2.891682e+09</td>\n      <td>3.087563e+09</td>\n      <td>298453303.0</td>\n      <td>196510766.0</td>\n      <td>102983836.0</td>\n      <td>179980.0</td>\n      <td>2133173.0</td>\n      <td>5.003062e+09</td>\n    </tr>\n  </tbody>\n</table>\n<p>1 rows × 36 columns</p>\n</div>"
     },
     "metadata": {},
     "execution_count": 91
    }
   ],
   "source": [
    "df"
   ]
  },
  {
   "cell_type": "code",
   "execution_count": 73,
   "metadata": {},
   "outputs": [
    {
     "output_type": "execute_result",
     "data": {
      "text/plain": [
       "              open    close    high      low     volume         money\n",
       "2021-01-04  2306.7  2246.31  2306.7  2226.99  1286929.0  2.891682e+09"
      ],
      "text/html": "<div>\n<style scoped>\n    .dataframe tbody tr th:only-of-type {\n        vertical-align: middle;\n    }\n\n    .dataframe tbody tr th {\n        vertical-align: top;\n    }\n\n    .dataframe thead th {\n        text-align: right;\n    }\n</style>\n<table border=\"1\" class=\"dataframe\">\n  <thead>\n    <tr style=\"text-align: right;\">\n      <th></th>\n      <th>open</th>\n      <th>close</th>\n      <th>high</th>\n      <th>low</th>\n      <th>volume</th>\n      <th>money</th>\n    </tr>\n  </thead>\n  <tbody>\n    <tr>\n      <th>2021-01-04</th>\n      <td>2306.7</td>\n      <td>2246.31</td>\n      <td>2306.7</td>\n      <td>2226.99</td>\n      <td>1286929.0</td>\n      <td>2.891682e+09</td>\n    </tr>\n  </tbody>\n</table>\n</div>"
     },
     "metadata": {},
     "execution_count": 73
    }
   ],
   "source": [
    "get_price('000001.XSHE', start_date='2021-01-04', end_date='2021-01-04', frequency='daily', fq='post')"
   ]
  }
 ]
}