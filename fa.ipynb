{
 "metadata": {
  "language_info": {
   "codemirror_mode": {
    "name": "ipython",
    "version": 3
   },
   "file_extension": ".py",
   "mimetype": "text/x-python",
   "name": "python",
   "nbconvert_exporter": "python",
   "pygments_lexer": "ipython3",
   "version": "3.6.2"
  },
  "orig_nbformat": 2,
  "kernelspec": {
   "name": "python3",
   "display_name": "Python 3",
   "language": "python"
  }
 },
 "nbformat": 4,
 "nbformat_minor": 2,
 "cells": [
  {
   "source": [
    "### 融资融券对股价的影响\n",
    "import h5py\n",
    "from jqdatasdk import *\n",
    "import pandas as pd\n",
    "from datetime import datetime\n",
    "\n",
    "\n",
    "auth(\"13818134484\", \"12345678\")\n",
    "get_query_count() # 查询剩余可调用次数"
   ],
   "cell_type": "code",
   "metadata": {},
   "execution_count": 1,
   "outputs": [
    {
     "output_type": "stream",
     "name": "stdout",
     "text": [
      "提示：当前环境pandas版本为0.25，get_price与get_fundamentals_continuously接口panel参数将固定为False\n",
      "注意：0.25以上版本pandas不支持panel，如使用该数据结构和相关函数请注意修改\n",
      "auth success \n"
     ]
    },
    {
     "output_type": "execute_result",
     "data": {
      "text/plain": [
       "{'total': 10000000, 'spare': 9972664}"
      ]
     },
     "metadata": {},
     "execution_count": 1
    }
   ]
  },
  {
   "cell_type": "code",
   "execution_count": 55,
   "metadata": {},
   "outputs": [],
   "source": [
    "# 数据存储\n",
    "def save_jqdata(stock_code, target_day_str):\n",
    "    with h5py.File('D:/data_file/jqdata.hdf5', 'a') as files:\n",
    "\n",
    "        if target_day_str in files.keys():\n",
    "            grp = files[target_day_str]\n",
    "        else:\n",
    "            grp = files.create_group(target_day_str)\n",
    "\n",
    "        if stock_code in grp.keys():\n",
    "            subgrp = grp[stock_code]\n",
    "        else:\n",
    "            subgrp = grp.create_group(stock_code)\n",
    "\n",
    "        # 每日行情数据\n",
    "        if \"price_daily\" not in subgrp.keys():\n",
    "            subgrp_daily = get_price(stock_code, start_date=target_day_str, end_date=target_day_str, frequency='daily',fq='post')\n",
    "            subgrp.create_dataset(\"price_daily\", data=subgrp_daily)\n",
    "        else:\n",
    "            print('写入失败.日期:{}.代码:{}.每日行情数据已存在.'.format(target_day_str, stock_code))\n",
    "\n",
    "        # 每日分钟数据\n",
    "        if \"price_minute\" not in subgrp.keys():\n",
    "            subgrp_minute = get_price(stock_code, start_date=target_day_str, end_date=target_day_str, frequency='minute', fq='post')\n",
    "            subgrp.create_dataset(\"price_minute\", data=subgrp_minute)\n",
    "        else:\n",
    "            print('写入失败.日期:{}.代码:{}.每日分钟数据已存在.'.format(target_day_str, stock_code))\n",
    "\n",
    "        # 每日集合竞价\n",
    "        if \"price_call\" not in subgrp.keys():\n",
    "            subgrp_call = get_call_auction(stock_code, start_date=target_day_str, end_date=target_day_str)\n",
    "            del subgrp_call['time']\n",
    "            del subgrp_call['code']\n",
    "            if subgrp_call.shape[0] > 0: # 集合竞价为空\n",
    "                subgrp.create_dataset(\"price_call\", data=subgrp_call)\n",
    "        else:\n",
    "            print('写入失败.日期:{}.代码:{}.每日集合竞价数据已存在.'.format(target_day_str, stock_code))\n",
    "\n",
    "        # 每日融资融券\n",
    "        if \"price_mtss\" not in subgrp.keys():\n",
    "            subgrp_mtss = get_mtss(stock_code, start_date=target_day_str, end_date=target_day_str)\n",
    "            del subgrp_mtss['date']\n",
    "            del subgrp_mtss['sec_code']\n",
    "            if subgrp_mtss.shape[0] > 0: # 无融资融券\n",
    "                subgrp.create_dataset(\"price_mtss\", data=subgrp_mtss)\n",
    "        else:\n",
    "            print('写入失败.日期:{}.代码:{}.每日融资融券数据已存在.'.format(target_day_str, stock_code))\n",
    "    print('执行完成.日期:{}.代码:{}.'.format(target_day_str, stock_code))\n",
    "\n",
    "\n",
    "# 每日数据存储\n",
    "def save_jqdata_daily(stock_list, target_day_str):\n",
    "    for _code in stock_list:\n",
    "        save_jqdata(stock_code=_code, target_day_str=target_day_str)"
   ]
  },
  {
   "cell_type": "code",
   "execution_count": 2,
   "metadata": {},
   "outputs": [],
   "source": [
    "# 获取交易日数据\n",
    "trade_days = get_all_trade_days() \n",
    "trade_days_str = [i.strftime('%Y-%m-%d') for i in list(trade_days)]\n",
    "\n",
    "today = datetime.now()\n",
    "today_str = datetime.now().strftime('%Y-%m-%d')\n",
    "\n",
    "# 当日前一个交易日作为目标\n",
    "for _, i in enumerate(trade_days_str):\n",
    "    if today_str <= i:\n",
    "        target_day_str = trade_days_str[_ - 1]\n",
    "        break  \n",
    "\n",
    "# 目标日与前一个交易日间隔天数\n",
    "target_day_pre_delta = (trade_days[trade_days_str.index(today_str) - 1] - trade_days[trade_days_str.index(today_str) - 2]).days"
   ]
  },
  {
   "cell_type": "code",
   "execution_count": 3,
   "metadata": {},
   "outputs": [],
   "source": [
    "# 获取未退市清单\n",
    "stocks = get_all_securities(['stock'])\n",
    "stocks['code'] = stocks.index.values\n",
    "\n",
    "stocks['market'] = stocks[['code']].applymap(lambda x:x.split('.')[1])\n",
    "stocks['stock_code'] = stocks[['code']].applymap(lambda x:x.split('.')[0])\n",
    "\n",
    "stocks['是否退市'] = stocks[['end_date']].applymap(lambda x:1 if x < today else 0)\n",
    "\n",
    "stock_list = stocks[stocks['是否退市'] == 0]['code'].tolist()"
   ]
  },
  {
   "cell_type": "code",
   "execution_count": 51,
   "metadata": {},
   "outputs": [
    {
     "output_type": "execute_result",
     "data": {
      "text/plain": [
       "{'total': 10000000, 'spare': 9989732}"
      ]
     },
     "metadata": {},
     "execution_count": 51
    }
   ],
   "source": [
    "get_query_count()"
   ]
  },
  {
   "cell_type": "code",
   "execution_count": 54,
   "metadata": {},
   "outputs": [
    {
     "output_type": "execute_result",
     "data": {
      "text/plain": [
       "['2021-01-04',\n",
       " '2021-01-05',\n",
       " '2021-01-06',\n",
       " '2021-01-07',\n",
       " '2021-01-08',\n",
       " '2021-01-11',\n",
       " '2021-01-12',\n",
       " '2021-01-13',\n",
       " '2021-01-14',\n",
       " '2021-01-15',\n",
       " '2021-01-18',\n",
       " '2021-01-19',\n",
       " '2021-01-20',\n",
       " '2021-01-21',\n",
       " '2021-01-22',\n",
       " '2021-01-25',\n",
       " '2021-01-26',\n",
       " '2021-01-27',\n",
       " '2021-01-28',\n",
       " '2021-01-29',\n",
       " '2021-02-01',\n",
       " '2021-02-02',\n",
       " '2021-02-03',\n",
       " '2021-02-04',\n",
       " '2021-02-05',\n",
       " '2021-02-08',\n",
       " '2021-02-09',\n",
       " '2021-02-10']"
      ]
     },
     "metadata": {},
     "execution_count": 54
    }
   ],
   "source": [
    "for i in trade_days_str[trade_days_str.index(target_day_str)-28:trade_days_str.index(target_day_str)]:\n",
    "    save_jqdata_daily(stock_list, i)"
   ]
  },
  {
   "cell_type": "code",
   "execution_count": null,
   "metadata": {},
   "outputs": [],
   "source": [
    "with h5py.File('D:/data_file/jqdata.hdf5', 'r') as files:\n",
    "    "
   ]
  }
 ]
}